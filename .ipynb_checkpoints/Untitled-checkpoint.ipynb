{
 "cells": [
  {
   "cell_type": "code",
   "execution_count": 1,
   "metadata": {},
   "outputs": [
    {
     "ename": "ModuleNotFoundError",
     "evalue": "No module named 'func'",
     "output_type": "error",
     "traceback": [
      "\u001b[1;31m---------------------------------------------------------------------------\u001b[0m",
      "\u001b[1;31mModuleNotFoundError\u001b[0m                       Traceback (most recent call last)",
      "\u001b[1;32m<ipython-input-1-0ef97f954d40>\u001b[0m in \u001b[0;36m<module>\u001b[1;34m\u001b[0m\n\u001b[0;32m      1\u001b[0m \u001b[1;32mimport\u001b[0m \u001b[0mnumpy\u001b[0m \u001b[1;32mas\u001b[0m \u001b[0mnp\u001b[0m\u001b[1;33m\u001b[0m\u001b[0m\n\u001b[0;32m      2\u001b[0m \u001b[1;32mimport\u001b[0m \u001b[0mcv2\u001b[0m\u001b[1;33m\u001b[0m\u001b[0m\n\u001b[1;32m----> 3\u001b[1;33m \u001b[1;32mimport\u001b[0m \u001b[0mfunc\u001b[0m\u001b[1;33m\u001b[0m\u001b[0m\n\u001b[0m\u001b[0;32m      4\u001b[0m \u001b[1;32mimport\u001b[0m \u001b[0mpandas\u001b[0m \u001b[1;32mas\u001b[0m \u001b[0mpd\u001b[0m\u001b[1;33m\u001b[0m\u001b[0m\n\u001b[0;32m      5\u001b[0m \u001b[1;32mfrom\u001b[0m \u001b[0mpandas\u001b[0m \u001b[1;32mimport\u001b[0m \u001b[0mDataFrame\u001b[0m\u001b[1;33m,\u001b[0m \u001b[0mSeries\u001b[0m  \u001b[1;31m# for convenienc\u001b[0m\u001b[1;33m\u001b[0m\u001b[0m\n",
      "\u001b[1;31mModuleNotFoundError\u001b[0m: No module named 'func'"
     ]
    }
   ],
   "source": [
    "import numpy as np\n",
    "import cv2\n",
    "import func\n",
    "import pandas as pd\n",
    "from pandas import DataFrame, Series  # for convenienc\n",
    "import pims\n",
    "import trackpy as tp\n",
    "import warnings\n",
    "\n",
    "warnings.filterwarnings('ignore')\n",
    "#\n",
    "def predo(img, threshed = 200):\n",
    "    img = img.transpose()[0]  # 取一维\n",
    "    img = img.T  # 转置\n",
    "    # add a mask for the container & Binarization\n",
    "    h, w = img.shape[:2]\n",
    "    r_m = 4.7 / 10. * h\n",
    "    mask_index = func.create_circular_mask(h, w, center=[h / 2 - 8, w / 2 - 5],\n",
    "                                           radius=r_m)  # TODO: change the region of the stage#func.create_circular_mask(h, w, center=[h / 2 + 6.5, w / 2 - 2], radius=r_m - 1)  # TODO: change the region of the stage\n",
    "    img_m = img.copy()\n",
    "    img_m[~mask_index] = img.mean()  # image array with mask\n",
    "    mask = np.zeros((h, w), np.uint8)\n",
    "    mask[mask_index] = 255  # mask array\n",
    "    th, img_t = cv2.threshold(img_m, threshed, 255, cv2.THRESH_BINARY)\n",
    "    return img_t\n",
    "\n",
    "\n",
    "images = pims.ImageSequence(r'D:\\guan2019\\1_disk\\1.2_pics\\40hz4g\\11\\\\*.jpg', process_func=predo)\n",
    "images = images[:10]  # We'll take just the first 10 frames for demo purposes.\n",
    "\n"
   ]
  },
  {
   "cell_type": "code",
   "execution_count": null,
   "metadata": {},
   "outputs": [],
   "source": [
    "# store =pd.HDFStore(r'D:\\guan2019\\1_disk\\2_data\\40hz4g\\11\\test.h5', complib='blosc')\n",
    "store = pd.DataFrame(comlumns=names)\n",
    "c = 0\n",
    "\n",
    "for image in images:\n",
    "    th, threshed = cv2.threshold(image, 200, 255, cv2.THRESH_BINARY)\n",
    "    cnts, hiers = cv2.findContours(threshed, cv2.RETR_LIST, cv2.CHAIN_APPROX_SIMPLE)[-2:]  # cv2.RETR_LIST——无从属关系\n",
    "    # print(len(cnts[0]))  # 轮廓上的点的数目\n",
    "    names = ['center', '(2b,2a)','theta', 'frame']  # '['centerx','centery', '2b','2a', 'theta', 'frame']\n",
    "    ellipse = list(cv2.fitEllipse(cnts[0]))  # tuple\n",
    "    # print(ellipse)\n",
    "    # list([ellipse[0][0],ellipse[0][1],ellipse[1][0],ellipse[1][1],ellipse[2],c])\n",
    "    ellipse.append(c)\n",
    "    print(ellipse)\n",
    "    ellipse = tuple(ellipse)\n",
    "    ellipse_dict = dict(zip(names, ellipse))\n",
    "    print(ellipse_dict)\n",
    "\n",
    "    store.append(key='Frame_%d'%c,value=pd.DataFrame(np.array(ellipse),dtype=object).convert_objects())\n",
    "    print(store)\n",
    "\n",
    "    c += 1\n",
    "\n",
    "\n",
    "store.close()"
   ]
  }
 ],
 "metadata": {
  "kernelspec": {
   "display_name": "Python 3",
   "language": "python",
   "name": "python3"
  },
  "language_info": {
   "codemirror_mode": {
    "name": "ipython",
    "version": 3
   },
   "file_extension": ".py",
   "mimetype": "text/x-python",
   "name": "python",
   "nbconvert_exporter": "python",
   "pygments_lexer": "ipython3",
   "version": "3.6.5"
  }
 },
 "nbformat": 4,
 "nbformat_minor": 2
}
